{
 "cells": [
  {
   "cell_type": "code",
   "execution_count": 1,
   "metadata": {
    "collapsed": true
   },
   "outputs": [],
   "source": [
    "import pandas as pd\n",
    "from bokeh.plotting import figure, output_file, show\n",
    "import numpy as np\n",
    "# export png module\n",
    "from bokeh.io import export_png\n",
    "from bokeh.io import export_svgs"
   ]
  },
  {
   "cell_type": "code",
   "execution_count": 2,
   "metadata": {},
   "outputs": [
    {
     "data": {
      "text/html": [
       "<div>\n",
       "<style>\n",
       "    .dataframe thead tr:only-child th {\n",
       "        text-align: right;\n",
       "    }\n",
       "\n",
       "    .dataframe thead th {\n",
       "        text-align: left;\n",
       "    }\n",
       "\n",
       "    .dataframe tbody tr th {\n",
       "        vertical-align: top;\n",
       "    }\n",
       "</style>\n",
       "<table border=\"1\" class=\"dataframe\">\n",
       "  <thead>\n",
       "    <tr style=\"text-align: right;\">\n",
       "      <th></th>\n",
       "      <th>Class</th>\n",
       "      <th>sepal-length</th>\n",
       "      <th>sepal-width</th>\n",
       "      <th>petal-length</th>\n",
       "      <th>petal-width</th>\n",
       "    </tr>\n",
       "  </thead>\n",
       "  <tbody>\n",
       "    <tr>\n",
       "      <th>0</th>\n",
       "      <td>1</td>\n",
       "      <td>6.3</td>\n",
       "      <td>2.9</td>\n",
       "      <td>5.6</td>\n",
       "      <td>1.8</td>\n",
       "    </tr>\n",
       "    <tr>\n",
       "      <th>1</th>\n",
       "      <td>0</td>\n",
       "      <td>4.8</td>\n",
       "      <td>3.4</td>\n",
       "      <td>1.6</td>\n",
       "      <td>0.2</td>\n",
       "    </tr>\n",
       "    <tr>\n",
       "      <th>2</th>\n",
       "      <td>1</td>\n",
       "      <td>7.2</td>\n",
       "      <td>3.2</td>\n",
       "      <td>6.0</td>\n",
       "      <td>1.8</td>\n",
       "    </tr>\n",
       "    <tr>\n",
       "      <th>3</th>\n",
       "      <td>0</td>\n",
       "      <td>5.2</td>\n",
       "      <td>3.4</td>\n",
       "      <td>1.4</td>\n",
       "      <td>0.2</td>\n",
       "    </tr>\n",
       "    <tr>\n",
       "      <th>4</th>\n",
       "      <td>1</td>\n",
       "      <td>6.7</td>\n",
       "      <td>3.1</td>\n",
       "      <td>5.6</td>\n",
       "      <td>2.4</td>\n",
       "    </tr>\n",
       "  </tbody>\n",
       "</table>\n",
       "</div>"
      ],
      "text/plain": [
       "   Class  sepal-length  sepal-width  petal-length  petal-width\n",
       "0      1           6.3          2.9           5.6          1.8\n",
       "1      0           4.8          3.4           1.6          0.2\n",
       "2      1           7.2          3.2           6.0          1.8\n",
       "3      0           5.2          3.4           1.4          0.2\n",
       "4      1           6.7          3.1           5.6          2.4"
      ]
     },
     "execution_count": 2,
     "metadata": {},
     "output_type": "execute_result"
    }
   ],
   "source": [
    "df = pd.read_csv('data/iris.csv')\n",
    "\n",
    "df.head()\n",
    "# 나중에 클래스로 소팅 해야할 필요성 느낌. 클러스터링 되고있다."
   ]
  },
  {
   "cell_type": "code",
   "execution_count": 3,
   "metadata": {
    "collapsed": true
   },
   "outputs": [],
   "source": [
    "# 클래스로 나누기 \n",
    "class_one = df.loc[df['Class'] == 1]\n",
    "class_zero = df.loc[df['Class'] == 0]\n",
    "\n",
    "class_one = class_one[['sepal-length', 'sepal-width']]\n",
    "class_zero = class_zero[['sepal-length', 'sepal-width']]"
   ]
  },
  {
   "cell_type": "code",
   "execution_count": 4,
   "metadata": {
    "collapsed": true
   },
   "outputs": [],
   "source": [
    "one_x = class_one[['sepal-width']].values.tolist()\n",
    "\n",
    "one_x = np.array(one_x)\n",
    "one_x = one_x.flatten()\n",
    "\n",
    "one_y = class_one[['sepal-length']].values.tolist()\n",
    "one_y = np.array(one_y)\n",
    "one_y = one_y.flatten()\n",
    "\n",
    "\n",
    "\n",
    "zero_x = class_zero[['sepal-width']].values.tolist()\n",
    "zero_x = np.array(zero_x)\n",
    "zero_x = zero_x.flatten()\n",
    "\n",
    "zero_y = class_zero[['sepal-length']].values.tolist()\n",
    "zero_y = np.array(zero_y)\n",
    "zero_y = zero_y.flatten()\n"
   ]
  },
  {
   "cell_type": "code",
   "execution_count": 5,
   "metadata": {},
   "outputs": [
    {
     "data": {
      "text/plain": [
       "['plot.svg']"
      ]
     },
     "execution_count": 5,
     "metadata": {},
     "output_type": "execute_result"
    }
   ],
   "source": [
    "# axis x: sepal-width\n",
    "# axis y: sepal-length\n",
    "\n",
    "p = figure(plot_width=600, plot_height=600)\n",
    "\n",
    "# toolbar 제거\n",
    "p.toolbar.logo = None\n",
    "p.toolbar_location = None\n",
    "\n",
    "\n",
    "# class_one plotting\n",
    "p.circle(one_x, one_y, size=20, color=\"navy\", alpha=0.5, line_color=None)\n",
    "p.circle(zero_x, zero_y, size=20, color=\"red\", alpha=0.5, line_color=None)\n",
    "\n",
    "\n",
    "p.title.text = \"Iris data\"\n",
    "p.title.align = \"center\"\n",
    "p.title.text_font_size = \"25px\"\n",
    "\n",
    "\n",
    "p.xaxis.axis_label = \"sepal-width\"\n",
    "p.xaxis.axis_label_standoff = 30\n",
    "\n",
    "p.yaxis.axis_label = \"sepal-length\"\n",
    "\n",
    "\n",
    "show(p)\n",
    "\n",
    "#export_png(p, filename=\"plot.png\")\n",
    "\n",
    "p.output_backend = \"svg\"\n",
    "export_svgs(p, filename=\"plot.svg\")"
   ]
  },
  {
   "cell_type": "code",
   "execution_count": null,
   "metadata": {
    "collapsed": true
   },
   "outputs": [],
   "source": []
  }
 ],
 "metadata": {
  "kernelspec": {
   "display_name": "Python 3",
   "language": "python",
   "name": "python3"
  },
  "language_info": {
   "codemirror_mode": {
    "name": "ipython",
    "version": 3
   },
   "file_extension": ".py",
   "mimetype": "text/x-python",
   "name": "python",
   "nbconvert_exporter": "python",
   "pygments_lexer": "ipython3",
   "version": "3.5.3"
  }
 },
 "nbformat": 4,
 "nbformat_minor": 2
}
